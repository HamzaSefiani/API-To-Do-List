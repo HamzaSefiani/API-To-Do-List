{
  "nbformat": 4,
  "nbformat_minor": 0,
  "metadata": {
    "colab": {
      "provenance": [],
      "authorship_tag": "ABX9TyN2Rkz4BGqEZ41BC/NAV5Xv",
      "include_colab_link": true
    },
    "kernelspec": {
      "name": "python3",
      "display_name": "Python 3"
    },
    "language_info": {
      "name": "python"
    }
  },
  "cells": [
    {
      "cell_type": "markdown",
      "metadata": {
        "id": "view-in-github",
        "colab_type": "text"
      },
      "source": [
        "<a href=\"https://colab.research.google.com/github/HamzaSefiani/API-To-Do-List/blob/main/linear_regression.ipynb\" target=\"_parent\"><img src=\"https://colab.research.google.com/assets/colab-badge.svg\" alt=\"Open In Colab\"/></a>"
      ]
    },
    {
      "cell_type": "code",
      "execution_count": null,
      "metadata": {
        "id": "mbbUDq4D-KJL"
      },
      "outputs": [],
      "source": []
    },
    {
      "cell_type": "markdown",
      "source": [
        "**Multiple Linear Regression**\n",
        "housing price prediction"
      ],
      "metadata": {
        "id": "N4HljgmR_TV2"
      }
    },
    {
      "cell_type": "markdown",
      "source": [
        "# The following code creates your `X_train` and `y_train` variables."
      ],
      "metadata": {
        "id": "me0wetCH_qhd"
      }
    },
    {
      "cell_type": "code",
      "source": [
        "import copy, math\n",
        "import matplotlib.pyplot as plt\n",
        "import numpy as np"
      ],
      "metadata": {
        "id": "1SM7lP95AM1V"
      },
      "execution_count": 38,
      "outputs": []
    },
    {
      "cell_type": "code",
      "source": [
        "#stored in a NumPy matrix X_train\n",
        "#𝐗_train is a matrix with dimensions (𝑚, 𝑛) (m rows, n columns).\n",
        "#𝑚 number of training  (  𝑚 is three in our example), and 𝑛 number of features (four in our example)\n",
        "# data is stored in numpy array/matrix\n",
        "X_train = np.array([[2104, 5, 1, 45], [1416, 3, 2, 40], [852, 2, 1, 35]])\n",
        "y_train = np.array([460, 232, 178])"
      ],
      "metadata": {
        "id": "S0ee2V_y_jKN"
      },
      "execution_count": 19,
      "outputs": []
    },
    {
      "cell_type": "code",
      "source": [
        "print(f\"X_train shape : {X_train.shape}, X_train type : {type(X_train)}\")\n",
        "print(X_train)\n",
        "print(f\"Y shape : {y_train.shape}, Y_train type : {type(y_train)}\")\n",
        "print(y_train)"
      ],
      "metadata": {
        "colab": {
          "base_uri": "https://localhost:8080/"
        },
        "id": "3BLQQQlNBM-z",
        "outputId": "de72cf6e-dea6-421f-feb7-b36b3e3aae03"
      },
      "execution_count": 20,
      "outputs": [
        {
          "output_type": "stream",
          "name": "stdout",
          "text": [
            "X_train shape : (3, 4), X_train type : <class 'numpy.ndarray'>\n",
            "[[2104    5    1   45]\n",
            " [1416    3    2   40]\n",
            " [ 852    2    1   35]]\n",
            "Y shape : (3,), Y_train type : <class 'numpy.ndarray'>\n",
            "[460 232 178]\n"
          ]
        }
      ]
    },
    {
      "cell_type": "markdown",
      "source": [
        "#Parameter vector w, b"
      ],
      "metadata": {
        "id": "v0cLsu-FEIKr"
      }
    },
    {
      "cell_type": "markdown",
      "source": [
        "For demonstration,  𝐰 and  𝑏 will be loaded with some initial selected values that are near the optimal.  𝐰 is a 1-D NumPy vector."
      ],
      "metadata": {
        "id": "qlGzAp7qFArt"
      }
    },
    {
      "cell_type": "code",
      "source": [
        "b_init = 785.1811367994083\n",
        "w_init = np.array([ 0.39133535, 18.75376741, -53.36032453, -26.42131618])\n",
        "print(f\"w_init shape: {w_init.shape}, b_init type: {type(b_init)}\")"
      ],
      "metadata": {
        "colab": {
          "base_uri": "https://localhost:8080/"
        },
        "id": "Ct7sjvHmEKlh",
        "outputId": "6f815ae1-eaf7-47e2-a3d0-7eae1ebc5cc8"
      },
      "execution_count": 10,
      "outputs": [
        {
          "output_type": "stream",
          "name": "stdout",
          "text": [
            "w_init shape: (4,), b_init type: <class 'float'>\n"
          ]
        }
      ]
    },
    {
      "cell_type": "markdown",
      "source": [
        "#Model Prediction With Multiple Variables"
      ],
      "metadata": {
        "id": "ZymiAmmDFe3e"
      }
    },
    {
      "cell_type": "code",
      "source": [
        "#Single Prediction, vector\n"
      ],
      "metadata": {
        "id": "SJ-0Q-7CFg6u"
      },
      "execution_count": null,
      "outputs": []
    },
    {
      "cell_type": "code",
      "source": [
        "def predict(x,w,b):\n",
        "  p = np.dot(x,w) + b\n",
        "  return p"
      ],
      "metadata": {
        "id": "kthMxx0GGHxI"
      },
      "execution_count": 11,
      "outputs": []
    },
    {
      "cell_type": "code",
      "source": [
        "x_vec = X_train[0,:]\n",
        "print(x_vec)\n",
        "f_wb = predict(x_vec, w_init, b_init)\n",
        "print(f_wb)"
      ],
      "metadata": {
        "colab": {
          "base_uri": "https://localhost:8080/"
        },
        "id": "ebeb0nKzG2-P",
        "outputId": "c9a78384-a42e-4c59-e52a-16748f8f17c1"
      },
      "execution_count": 17,
      "outputs": [
        {
          "output_type": "stream",
          "name": "stdout",
          "text": [
            "[2104    5    1   45]\n",
            "459.9999976194083\n"
          ]
        }
      ]
    },
    {
      "cell_type": "markdown",
      "source": [
        "#Compute Cost With Multiple Variables"
      ],
      "metadata": {
        "id": "KctKKG35I73h"
      }
    },
    {
      "cell_type": "code",
      "source": [
        "def comput_cost(X, y, w, b):\n",
        "  m = X.shape[0]\n",
        "  cost = 0.0\n",
        "  for i in range(m):\n",
        "    f_wb_i = np.dot(X[i], w) + b\n",
        "    cost = cost + (f_wb_i - y[i])**2\n",
        "  cost = cost / 2*m\n",
        "  return cost"
      ],
      "metadata": {
        "id": "Hg7Q781FI_CK"
      },
      "execution_count": 21,
      "outputs": []
    },
    {
      "cell_type": "code",
      "source": [
        "print(comput_cost(X_train, y_train, w_init, b_init))"
      ],
      "metadata": {
        "colab": {
          "base_uri": "https://localhost:8080/"
        },
        "id": "SiM6eYwBNEGE",
        "outputId": "1ef4612d-7b3d-4d6e-ac7b-82b76f11c036"
      },
      "execution_count": 22,
      "outputs": [
        {
          "output_type": "stream",
          "name": "stdout",
          "text": [
            "1.4021013986069966e-11\n"
          ]
        }
      ]
    },
    {
      "cell_type": "markdown",
      "source": [
        "#Compute Gradient with Multiple Variables"
      ],
      "metadata": {
        "id": "58r0VVxARDva"
      }
    },
    {
      "cell_type": "code",
      "source": [
        "def compute_gradient(X,y,w,b):\n",
        "    m, n = X.shape\n",
        "    dj_dw = np.zeros((n,))\n",
        "    dj_db = 0\n",
        "    for i in range(m):\n",
        "      err = (np.dot(X[i],w) + b) - y[i]\n",
        "      for j in range(n):\n",
        "        dj_dw[j] = dj_dw[j] + err * X[i,j]\n",
        "      dj_db = dj_db + err\n",
        "    return dj_db, dj_dw"
      ],
      "metadata": {
        "id": "BPUsmerRRGpx"
      },
      "execution_count": 26,
      "outputs": []
    },
    {
      "cell_type": "code",
      "source": [
        "#Compute and display gradient\n",
        "tmp_dj_db, tmp_dj_dw = compute_gradient(X_train, y_train, w_init, b_init)\n",
        "print(f'dj_db at initial w,b: {tmp_dj_db}')\n",
        "print(f'dj_dw at initial w,b: \\n {tmp_dj_dw}')"
      ],
      "metadata": {
        "colab": {
          "base_uri": "https://localhost:8080/"
        },
        "id": "FzhhGIrIW4TL",
        "outputId": "e73507f0-bb54-4848-b1ba-eb58badeadc5"
      },
      "execution_count": 27,
      "outputs": [
        {
          "output_type": "stream",
          "name": "stdout",
          "text": [
            "dj_db at initial w,b: -5.021775450586574e-06\n",
            "dj_dw at initial w,b: \n",
            " [-8.17870732e-03 -1.88159179e-05 -6.65236735e-06 -2.07721017e-04]\n"
          ]
        }
      ]
    },
    {
      "cell_type": "code",
      "source": [
        "def gradient_descent(X, y, w_in, b_in, cost_function, gradient_function, alpha, num_iters):\n",
        "    \"\"\"\n",
        "    Performs batch gradient descent to learn w and b. Updates w and b by taking\n",
        "    num_iters gradient steps with learning rate alpha\n",
        "\n",
        "    Args:\n",
        "      X (ndarray (m,n))   : Data, m examples with n features\n",
        "      y (ndarray (m,))    : target values\n",
        "      w_in (ndarray (n,)) : initial model parameters\n",
        "      b_in (scalar)       : initial model parameter\n",
        "      cost_function       : function to compute cost\n",
        "      gradient_function   : function to compute the gradient\n",
        "      alpha (float)       : Learning rate\n",
        "      num_iters (int)     : number of iterations to run gradient descent\n",
        "\n",
        "    Returns:\n",
        "      w (ndarray (n,)) : Updated values of parameters\n",
        "      b (scalar)       : Updated value of parameter\n",
        "      \"\"\"\n",
        "\n",
        "    # An array to store cost J and w's at each iteration primarily for graphing later\n",
        "    J_history = []\n",
        "    w = copy.deepcopy(w_in)  #avoid modifying global w within function\n",
        "    b = b_in\n",
        "\n",
        "    for i in range(num_iters):\n",
        "\n",
        "        # Calculate the gradient and update the parameters\n",
        "        dj_db,dj_dw = gradient_function(X, y, w, b)   ##None\n",
        "\n",
        "        # Update Parameters using w, b, alpha and gradient\n",
        "        w = w - alpha * dj_dw               ##None\n",
        "        b = b - alpha * dj_db               ##None\n",
        "\n",
        "        # Save cost J at each iteration\n",
        "        if i<100000:      # prevent resource exhaustion\n",
        "            J_history.append( cost_function(X, y, w, b))\n",
        "\n",
        "        # Print cost every at intervals 10 times or as many iterations if < 10\n",
        "        if i% math.ceil(num_iters / 10) == 0:\n",
        "            print(f\"Iteration {i:4d}: Cost {J_history[-1]:8.2f}   \")\n",
        "\n",
        "    return w, b, J_history #return final w,b and J history for graphing"
      ],
      "metadata": {
        "id": "nQLXCRoWYNEr"
      },
      "execution_count": 35,
      "outputs": []
    },
    {
      "cell_type": "code",
      "source": [
        "# initialize parameters\n",
        "initial_w = np.zeros_like(w_init)\n",
        "initial_b = 0.\n",
        "# some gradient descent settings\n",
        "iterations = 1000\n",
        "alpha = 5.0e-7\n",
        "# run gradient descent\n",
        "w_final, b_final, J_hist = gradient_descent(X_train, y_train, initial_w, initial_b, comput_cost, compute_gradient, alpha, iterations)\n",
        "print(f\"b,w found by gradient descent: {b_final:0.2f},{w_final} \")\n",
        "m,_ = X_train.shape\n",
        "for i in range(m):\n",
        "    print(f\"prediction: {np.dot(X_train[i], w_final) + b_final:0.2f}, target value: {y_train[i]}\")"
      ],
      "metadata": {
        "colab": {
          "base_uri": "https://localhost:8080/"
        },
        "id": "pdaWB8bDYRTk",
        "outputId": "125d7e98-cf66-4c36-cd89-8740ea58f826"
      },
      "execution_count": 36,
      "outputs": [
        {
          "output_type": "stream",
          "name": "stdout",
          "text": [
            "Iteration    0: Cost 2933745.12   \n",
            "Iteration  100: Cost 67751106113319605721974767116940745016833654399552661746840689029265765211251796248363008.00   \n",
            "Iteration  200: Cost 1567978402099857637968915664324121405162132926144517471378040563552571279501333939267789289216179386423037403861278901932560206387668585686767700758302243743870969593200640.00   \n",
            "Iteration  300: Cost 36288060970391859875951501125660014060981367020880445737070606208009647309498424885462812038825836449478678744280094223798527513713738286312995379171771958532860002197354848762745126506192464040304138563335001324369585914595953008944883786691023103590400.00   \n",
            "Iteration  400: Cost      inf   \n",
            "Iteration  500: Cost      inf   \n",
            "Iteration  600: Cost      inf   \n",
            "Iteration  700: Cost      inf   \n",
            "Iteration  800: Cost      nan   \n",
            "Iteration  900: Cost      nan   \n",
            "b,w found by gradient descent: nan,[nan nan nan nan] \n",
            "prediction: nan, target value: 460\n",
            "prediction: nan, target value: 232\n",
            "prediction: nan, target value: 178\n"
          ]
        },
        {
          "output_type": "stream",
          "name": "stderr",
          "text": [
            "<ipython-input-21-4644a0071627>:6: RuntimeWarning: overflow encountered in double_scalars\n",
            "  cost = cost + (f_wb_i - y[i])**2\n",
            "<ipython-input-26-ab9c2c0a0da6>:8: RuntimeWarning: overflow encountered in double_scalars\n",
            "  dj_dw[j] = dj_dw[j] + err * X[i,j]\n",
            "<ipython-input-35-8b061419d344>:32: RuntimeWarning: invalid value encountered in subtract\n",
            "  w = w - alpha * dj_dw               ##None\n"
          ]
        }
      ]
    },
    {
      "cell_type": "code",
      "source": [
        "# plot cost versus iteration\n",
        "fig, (ax1, ax2) = plt.subplots(1, 2, constrained_layout=True, figsize=(12, 4))\n",
        "ax1.plot(J_hist)\n",
        "ax2.plot(100 + np.arange(len(J_hist[100:])), J_hist[100:])\n",
        "ax1.set_title(\"Cost vs. iteration\");  ax2.set_title(\"Cost vs. iteration (tail)\")\n",
        "ax1.set_ylabel('Cost')             ;  ax2.set_ylabel('Cost')\n",
        "ax1.set_xlabel('iteration step')   ;  ax2.set_xlabel('iteration step')\n",
        "plt.show()"
      ],
      "metadata": {
        "colab": {
          "base_uri": "https://localhost:8080/",
          "height": 463
        },
        "id": "wjPEIvaHY0ft",
        "outputId": "cdbf6d07-ace2-4dd8-c637-6c18bcfbe3b1"
      },
      "execution_count": 39,
      "outputs": [
        {
          "output_type": "stream",
          "name": "stderr",
          "text": [
            "/usr/local/lib/python3.10/dist-packages/matplotlib/ticker.py:2094: RuntimeWarning: overflow encountered in multiply\n",
            "  steps = self._extended_steps * scale\n"
          ]
        },
        {
          "output_type": "display_data",
          "data": {
            "text/plain": [
              "<Figure size 1200x400 with 2 Axes>"
            ],
            "image/png": "[encoded data removed]"
          },
          "metadata": {}
        }
      ]
    }
  ]
}